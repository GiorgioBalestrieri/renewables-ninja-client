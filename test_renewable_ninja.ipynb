{
 "cells": [
  {
   "cell_type": "markdown",
   "metadata": {},
   "source": [
    "# Renewables Ninja client - example"
   ]
  },
  {
   "cell_type": "code",
   "execution_count": 1,
   "metadata": {},
   "outputs": [],
   "source": [
    "import pandas as pd\n",
    "import renewables_ninja as ninja"
   ]
  },
  {
   "cell_type": "code",
   "execution_count": 10,
   "metadata": {},
   "outputs": [],
   "source": [
    "# query args\n",
    "lat = 24.7532\n",
    "lon = 55.3626\n",
    "date_from = pd.datetime(2014, 1, 1)\n",
    "date_to = pd.datetime(2014,12,31)\n",
    "capacity = 1\n",
    "system_loss = 10\n",
    "tracking = 1\n",
    "tilt = 0\n",
    "azim = 180\n",
    "\n",
    "dataset = 'merra2'"
   ]
  },
  {
   "cell_type": "markdown",
   "metadata": {},
   "source": [
    "## PV"
   ]
  },
  {
   "cell_type": "code",
   "execution_count": null,
   "metadata": {},
   "outputs": [],
   "source": [
    "pv_df = ninja.query_pv(lat, lon, date_from, date_to, \n",
    "                       tilt, azim, tracking, system_loss, \n",
    "                       capacity, dataset)\n",
    "\n",
    "pv_df.head()"
   ]
  },
  {
   "cell_type": "markdown",
   "metadata": {},
   "source": [
    "## Wind"
   ]
  },
  {
   "cell_type": "code",
   "execution_count": 9,
   "metadata": {},
   "outputs": [],
   "source": [
    "height = 80\n",
    "capacity = 1\n",
    "turbine='Vestas V80 2000'"
   ]
  },
  {
   "cell_type": "code",
   "execution_count": null,
   "metadata": {},
   "outputs": [],
   "source": [
    "ninja.query_wind(lat, lon, date_from, date_to, height, capacity=1)"
   ]
  }
 ],
 "metadata": {
  "kernelspec": {
   "display_name": "Python 3",
   "language": "python",
   "name": "python3"
  },
  "language_info": {
   "codemirror_mode": {
    "name": "ipython",
    "version": 3
   },
   "file_extension": ".py",
   "mimetype": "text/x-python",
   "name": "python",
   "nbconvert_exporter": "python",
   "pygments_lexer": "ipython3",
   "version": "3.6.5"
  }
 },
 "nbformat": 4,
 "nbformat_minor": 2
}
